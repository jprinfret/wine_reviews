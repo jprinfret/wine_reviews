{
 "cells": [
  {
   "cell_type": "code",
   "execution_count": 26,
   "metadata": {},
   "outputs": [],
   "source": [
    "import pandas as pd\n",
    "import numpy as np\n",
    "\n",
    "import matplotlib.pyplot as plt\n",
    "%matplotlib inline\n",
    "\n",
    "import seaborn as sns\n",
    "sns.set(style='white')\n",
    "\n",
    "from sklearn import linear_model"
   ]
  },
  {
   "cell_type": "code",
   "execution_count": 27,
   "metadata": {},
   "outputs": [],
   "source": [
    "def make_heatmap(df):\n",
    "    #create figure and axis\n",
    "    fig = plt.figure(figsize=(10,8))\n",
    "    ax = fig.add_subplot(111)\n",
    "    \n",
    "    #create mask\n",
    "    mask = np.zeros_like(df.corr(), dtype=np.bool)\n",
    "    mask[np.triu_indices_from(mask)] = True\n",
    "\n",
    "    #create color scheme\n",
    "    cmap = sns.diverging_palette(220, 10, as_cmap=True)\n",
    "\n",
    "    return sns.heatmap(df.corr(),\n",
    "                       mask=mask,\n",
    "                       cmap=cmap,\n",
    "                       center=0,\n",
    "                       vmin=-0.4,\n",
    "                       vmax=0.4,\n",
    "                       square=True,\n",
    "                       linewidths=0.5,\n",
    "                       cbar_kws={'shrink': 0.5}, ax=ax);"
   ]
  },
  {
   "cell_type": "code",
   "execution_count": 28,
   "metadata": {},
   "outputs": [],
   "source": [
    "def make_df(df, columns):\n",
    "    _df = pd.DataFrame(df['points'])\n",
    "    _df['scaled_log_prices'] = df['scaled_log']\n",
    "    for col in columns:\n",
    "        _df[col] = df[col]\n",
    "    return pd.DataFrame(_df)"
   ]
  },
  {
   "cell_type": "code",
   "execution_count": 29,
   "metadata": {},
   "outputs": [],
   "source": [
    "def generate_wine_codes(df, province, grape, vintage, price):\n",
    "    \n",
    "    #log price\n",
    "    log_price = int(round(np.log(price), 0))\n",
    "    \n",
    "    #create needed containers\n",
    "    wine_codes = []\n",
    "    \n",
    "    # create a unique binary code for province\n",
    "    for taster in df['taster_names']:    \n",
    "        \n",
    "        #create unique wine code for each taster \n",
    "        unique_wine_code = [] #resets code to empty list for each taster\n",
    "        unique_wine_code.extend(df['provinces'][province])\n",
    "        unique_wine_code.extend(df['taster_names'][taster])\n",
    "        unique_wine_code.extend(df['grapes'][grape])\n",
    "        unique_wine_code.extend(df['vintages'][vintage])\n",
    "        unique_wine_code[-1] = log_price\n",
    "          \n",
    "        #create a list of unique wine codes\n",
    "        wine_codes.append(unique_wine_code)\n",
    "        \n",
    "    return wine_codes"
   ]
  },
  {
   "cell_type": "code",
   "execution_count": 32,
   "metadata": {},
   "outputs": [],
   "source": [
    "def generate_prediction(model, wine_codes):\n",
    "    predictions = []\n",
    "    for wine_code in wine_codes:\n",
    "        products = []\n",
    "        for i in range(len(wine_code)):\n",
    "            products.append(wine_code[i]*model.coef_[i])\n",
    "        prediction = model.intercept_ + sum(products)\n",
    "        predictions.append(prediction)\n",
    "    return round(np.mean(predictions), 2)"
   ]
  },
  {
   "cell_type": "code",
   "execution_count": null,
   "metadata": {},
   "outputs": [],
   "source": []
  },
  {
   "cell_type": "code",
   "execution_count": null,
   "metadata": {},
   "outputs": [],
   "source": []
  }
 ],
 "metadata": {
  "kernelspec": {
   "display_name": "Python 3",
   "language": "python",
   "name": "python3"
  },
  "language_info": {
   "codemirror_mode": {
    "name": "ipython",
    "version": 3
   },
   "file_extension": ".py",
   "mimetype": "text/x-python",
   "name": "python",
   "nbconvert_exporter": "python",
   "pygments_lexer": "ipython3",
   "version": "3.7.3"
  }
 },
 "nbformat": 4,
 "nbformat_minor": 2
}

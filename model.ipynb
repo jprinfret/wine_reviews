{
 "cells": [
  {
   "cell_type": "code",
   "execution_count": 3,
   "metadata": {},
   "outputs": [],
   "source": [
    "import pandas as pd\n",
    "import numpy as np\n",
    "\n",
    "from sklearn.linear_model import Ridge"
   ]
  },
  {
   "cell_type": "code",
   "execution_count": 4,
   "metadata": {},
   "outputs": [],
   "source": [
    "df = pd.read_csv('wine_data.csv')\n",
    "\n",
    "df['log_price'] = np.log(df['price'])\n",
    "wine_prices = df['log_price']\n",
    "scaled_wine_prices = (wine_prices-np.mean(wine_prices))/np.std(wine_prices)\n",
    "df['scaled_log'] = scaled_wine_prices\n",
    "\n",
    "df.drop(['price', 'log_price', 'prov_alsace', 'taster_undisclosed', 'vintage_2000', 'grape_cabernet_sauvignon'], axis=1, inplace=True)"
   ]
  },
  {
   "cell_type": "code",
   "execution_count": 5,
   "metadata": {},
   "outputs": [],
   "source": [
    "#create model inputs\n",
    "y = df.points\n",
    "X = df.drop(['points'], axis=1)\n",
    "\n",
    "#create model\n",
    "ridge = Ridge(alpha=1)\n",
    "model = ridge.fit(X, y)"
   ]
  }
 ],
 "metadata": {
  "kernelspec": {
   "display_name": "Python 3",
   "language": "python",
   "name": "python3"
  },
  "language_info": {
   "codemirror_mode": {
    "name": "ipython",
    "version": 3
   },
   "file_extension": ".py",
   "mimetype": "text/x-python",
   "name": "python",
   "nbconvert_exporter": "python",
   "pygments_lexer": "ipython3",
   "version": "3.7.3"
  }
 },
 "nbformat": 4,
 "nbformat_minor": 2
}
